{
 "cells": [
  {
   "cell_type": "markdown",
   "metadata": {},
   "source": [
    "### 부분집합(subset)\n",
    "\n",
    "#### arr 배열에서 부분 집합 생성하기\n",
    "\n",
    "- 생성 가능한 부분 집합의 개수: 2**n\n",
    "\n",
    "- 배열의 길이: n = len(arr)\n",
    "\n",
    "- bit 연산자    \n",
    "\n",
    "    - shift(<<, >>) 연산자(비트단위 시프트 연산자)\n",
    "\n",
    "        <<: 오른쪽에 0이 주어진 개수만큼 추가(비트 기준)\n",
    "        \n",
    "        ex: n = 10(10)  -> 1010(2)\n",
    "\n",
    "            n >> 1  -> 10100(2) -> n = 20(10)\n",
    "\n",
    "        => 지정한 비트 수만큼 밀어주면 2배씩 늘어나거나 줄어든다!\n",
    "\n",
    "\n",
    "\n",
    "    - AND(&) 연산자\n",
    "\n",
    "        &: 같은 자리의 각 비트끼리 and로 비교\n",
    "            \n",
    "            두 비트 모두 1이면 1, 아니면 0 "
   ]
  },
  {
   "cell_type": "code",
   "execution_count": null,
   "metadata": {},
   "outputs": [],
   "source": [
    "# arr 배열에서 모든 부분 집합을 생성하는 코드\n",
    "arr = [1,2,3]\n",
    "n = len(arr)                # 배열의 길이\n",
    "subset_cnt = 2**n           # 생성 가능한 부분 집합의 총 개수\n",
    "\n",
    "subsets = []                # 모든 부분 집합을 저장할 리스트  \n",
    "for i in range(subset_cnt):\n",
    "    subset = []             # 현재 부분집합을 저장할 리스트\n",
    "    for j in range(n):      # 각 요소에 대해 포함 여부를 결정하기 위한 반복문\n",
    "        if i & (1 << j):    # i의 j번째 비트가 1인지 확인\n",
    "            subset.append(arr[j])\n",
    "    subsets.append(subset)\n",
    "print(subsets)\n"
   ]
  },
  {
   "cell_type": "code",
   "execution_count": null,
   "metadata": {},
   "outputs": [],
   "source": [
    "# for문(loop)을 이용한 부분집합 생성\n",
    "\n",
    "selected = [0]*3\n",
    "\"\"\"\n",
    "Knapsack문제\n",
    "\n",
    "[1,2,3]에서 선택하냐, 안 하냐의 문제로 부분집합을 구할 수 있음\n",
    "이를 for loop로 구현하면 아래와 같음\n",
    "\"\"\"\n",
    "for i in range(2):\n",
    "    selected[0] = i\n",
    "    for j in range(2):\n",
    "        selected[1] = j\n",
    "        for k in range(2):\n",
    "            selected[2] = k\n",
    "            subset = []\n",
    "            for n in range(3):\n",
    "                if selected[n] == 1:\n",
    "                    subset.append(n+1)\n",
    "            print(subset)"
   ]
  },
  {
   "cell_type": "code",
   "execution_count": null,
   "metadata": {},
   "outputs": [],
   "source": [
    "# combination함수 이용\n",
    "from itertools import combinations \n",
    " \n",
    "T = int(input())\n",
    "arr = [i for i in range(1, 13)]\n",
    "answer = []\n",
    " \n",
    "for _ in range(T):\n",
    "    N, K = map(int, input().split())\n",
    "    count = 0\n",
    "    for comb in combinations(arr, N):\n",
    "        if sum(comb) == K:\n",
    "            count += 1\n",
    "    answer.append(count)\n",
    " \n",
    "for i in range(T):\n",
    "    print(f'#{i+1} {answer[i]}')"
   ]
  },
  {
   "cell_type": "markdown",
   "metadata": {},
   "source": [
    "---"
   ]
  },
  {
   "cell_type": "markdown",
   "metadata": {},
   "source": [
    "#### 이진 탐색(binary search)\n",
    "\n",
    "    - 자료의 가운데에 있는 항목의 key 값과 비교\n",
    "    \n",
    "    (검색 범위를 반으로 줄여가면서 검색 수행)\n",
    "\n",
    "    - 자료가 정렬되어 있어야 한다"
   ]
  },
  {
   "cell_type": "code",
   "execution_count": null,
   "metadata": {},
   "outputs": [],
   "source": [
    "def binary_search_recursive(input_list, low, high, key):\n",
    "    if low > high:  \n",
    "        return False\n",
    "    \n",
    "    mid = (low + high) // 2\n",
    "    if key == input_list[mid]:\n",
    "        return True\n",
    "    elif key < input_list[mid]:\n",
    "        return binary_search_recursive(input_list, low, mid-1, key)\n",
    "    elif key > input_list[mid]:\n",
    "        return binary_search_recursive(input_list, mid+1, high, key)\n",
    "    \n",
    "num_list = [1, 2, 3, 5, 6, 7, 8, 9, 10]\n",
    "\n",
    "result = binary_search_recursive(num_list, 0 ,len(num_list) -1, 2)"
   ]
  }
 ],
 "metadata": {
  "language_info": {
   "name": "python"
  }
 },
 "nbformat": 4,
 "nbformat_minor": 2
}
