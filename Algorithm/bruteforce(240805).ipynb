{
 "cells": [
  {
   "cell_type": "markdown",
   "metadata": {},
   "source": [
    "### Bruteforce(고지식한 패턴 검색)\n",
    "    \n",
    "본문 문자열을 처음부터 끝까지 차례대로 순회하면서 패턴 내의 문자들을 일일이 비교하는 방식으로 동작 "
   ]
  },
  {
   "cell_type": "code",
   "execution_count": null,
   "metadata": {},
   "outputs": [],
   "source": [
    "t = 'TTA'\n",
    "p = 'TTTTTABC'\n",
    "N = len(t)\n",
    "M = len(p)\n",
    "cnt = 0\n",
    "for i in range(N-M+1);        # 비교시작 위치\n",
    "    for j in range(M):\n",
    "        if t[i+j] != p[j]:\n",
    "            break             # for j, 다음 글자부터 비교 시작\n",
    "    else:                     # for j가 중단 없이 반복되면\n",
    "        cnt += 1\n",
    "print(cnt)"
   ]
  },
  {
   "cell_type": "markdown",
   "metadata": {},
   "source": [
    "#### 브루트포스 예제\n",
    "\n",
    "- 패턴: ABCD\n",
    "\n",
    "- 문자열: ABCDABCDABCD"
   ]
  },
  {
   "cell_type": "code",
   "execution_count": null,
   "metadata": {},
   "outputs": [],
   "source": [
    "for _ in range(10):\n",
    "    tc = int(input())\n",
    "    pattern = input()\n",
    "    search_text = input()\n",
    "    result = 0\n",
    "\n",
    "    pattern_idx = 0     # 비교할 부분을 기리키는 패턴의 인덱스 \n",
    "    compare_idx = 0     # 비교할 부분을 가리키는 문자열의 인덱스\n",
    "\n",
    "    # 버블정렬처럼 찾으려고 하는 문자열의 처음부터 시작해서 문자열의 끝까지 진행    \n",
    "    while compare_idx < len(search_text):\n",
    "        # 패턴이 다른 경우\n",
    "        if search_text[compare_idx] != pattern[pattern_idx]:\n",
    "             # 여태까지 비교해온 패턴만큼 뒤로가서 다시 시작\n",
    "             compare_idx = compare_idx - pattern_idx + 1\n",
    "             compare_idx = 0\n",
    "             continue\n",
    "        \n",
    "        # 패턴이 같은 경우\n",
    "        # 패턴의 위치도 한 칸 앞으로 \n",
    "        # 현재 비교해야 하는 문자도 한 칸 앞으로\n",
    "        pattern_idx += 1\n",
    "        compare_idx += 1\n",
    "\n",
    "        # 모든 문자열을 비교한 경우\n",
    "        if pattern_idx == len(pattern):\n",
    "            result += 1     # 패턴 찾은 거 기록\n",
    "            pattern_idx = 0  # 패턴은 처음 위치부터 다시 비교 시작\n",
    "            compare_idx = compare_idx - pattern_idx + 1 \n",
    "            # 패턴의 길이만큼 뒤로 간 후 한 칸 앞으로 이동해서 다시 비교\n",
    "            \n",
    "    print(f'#{tc} {result}')\n"
   ]
  }
 ],
 "metadata": {
  "language_info": {
   "name": "python"
  }
 },
 "nbformat": 4,
 "nbformat_minor": 2
}
